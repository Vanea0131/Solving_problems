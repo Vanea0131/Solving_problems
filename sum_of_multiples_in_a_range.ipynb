{
 "cells": [
  {
   "cell_type": "markdown",
   "metadata": {},
   "source": [
    "If we list all the natural numbers below 10 that are mutiples of 3 or 5, we get 3,5,6,9. The sum of these multiples is 23. \n",
    "Find the sum of all the multiples of 3 or 5 bellow 1000 \\\n",
    "3 Solutions"
   ]
  },
  {
   "cell_type": "markdown",
   "metadata": {},
   "source": [
    "Logic steps would be first to find all numbers bellow 1000 that are mutiples of 3  then all multiples of 5. However we will double count some because some numebers are divisible buy both. \\\n",
    "So whole proces will look like (num multiple of 3)+(num multiple of 5)-(num multiple of 3 and 5) \\\n",
    "To find them we will use a*((n/a)*((n/a)+1)/2) formula, where our a is multiple number(3,5,15) n is our bellow 1000 meaning 999 \n"
   ]
  },
  {
   "cell_type": "markdown",
   "metadata": {},
   "source": [
    "Find sum of numbers with multiple of 3 "
   ]
  },
  {
   "cell_type": "code",
   "execution_count": 29,
   "metadata": {},
   "outputs": [
    {
     "data": {
      "text/plain": [
       "166833.0"
      ]
     },
     "execution_count": 29,
     "metadata": {},
     "output_type": "execute_result"
    }
   ],
   "source": [
    "div_3=3*(999//3)*((999//3)+1)/2\n",
    "div_3"
   ]
  },
  {
   "cell_type": "markdown",
   "metadata": {},
   "source": [
    "Find sum of numbers with multiple of 5"
   ]
  },
  {
   "cell_type": "code",
   "execution_count": 31,
   "metadata": {},
   "outputs": [
    {
     "data": {
      "text/plain": [
       "99500.0"
      ]
     },
     "execution_count": 31,
     "metadata": {},
     "output_type": "execute_result"
    }
   ],
   "source": [
    "div_5= 5 * ((999//5)  *  ((999//5)+1))/2\n",
    "div_5"
   ]
  },
  {
   "cell_type": "markdown",
   "metadata": {},
   "source": [
    "Find sum of numbers with multiple of 15"
   ]
  },
  {
   "cell_type": "code",
   "execution_count": 27,
   "metadata": {},
   "outputs": [
    {
     "data": {
      "text/plain": [
       "33165.0"
      ]
     },
     "execution_count": 27,
     "metadata": {},
     "output_type": "execute_result"
    }
   ],
   "source": [
    "div_15=15*((999//15)*((999//15)+1))/2\n",
    "div_15"
   ]
  },
  {
   "cell_type": "markdown",
   "metadata": {},
   "source": [
    "Finally add sum of multiple 3 to sum of mutliple 5 and substract sum of multiple of 15. \\\n",
    "As well maybe you noticed instead of simple division / i used so called floor division // this would return you and integer. just to keep it more clean."
   ]
  },
  {
   "cell_type": "code",
   "execution_count": 28,
   "metadata": {},
   "outputs": [
    {
     "data": {
      "text/plain": [
       "233168.0"
      ]
     },
     "execution_count": 28,
     "metadata": {},
     "output_type": "execute_result"
    }
   ],
   "source": [
    "Sum=(div_3+div_5)-div_15\n",
    "Sum"
   ]
  },
  {
   "cell_type": "markdown",
   "metadata": {},
   "source": [
    "Now, the above took some time and a lot of space to write it down and it was more math rather than programing, but we can simplify the calculation process and safe space using for loops in python."
   ]
  },
  {
   "cell_type": "code",
   "execution_count": 33,
   "metadata": {},
   "outputs": [
    {
     "name": "stdout",
     "output_type": "stream",
     "text": [
      "233168\n"
     ]
    }
   ],
   "source": [
    "total_sum = 0 # a varible which we ask for the moment to be 0\n",
    "for num in range(1000): #this is loop statement, instead of num can be anything and we give it range of 1000\n",
    "    if (num%3 == 0 or num%5 == 0): # this is our condition for the loop to check so if any num in the range is multiple of 3 or 5 \n",
    "        total_sum = total_sum+num # this stament means that if the number is divisible take the variable(total_sum) and add i to it\n",
    "print (total_sum) # this just prints it out the final sum"
   ]
  },
  {
   "cell_type": "markdown",
   "metadata": {},
   "source": [
    "So the above for loop would take each number from 0 to 999 will check if it's multiple of 3 or 5 and if it is then it will add this number to variable that we defined as total_sum."
   ]
  },
  {
   "cell_type": "markdown",
   "metadata": {},
   "source": [
    "What if we want to check for other ranges and other multiple numbers. Two options either rewrite whole loop over and over or a better way would be to create a function that we can always call and input our range and multiples that we want to check."
   ]
  },
  {
   "cell_type": "code",
   "execution_count": 60,
   "metadata": {},
   "outputs": [],
   "source": [
    "def div_by_sum (lim, mul):\n",
    "    return (i for i in range(lim) if any (i% d == 0 for d in mul))\n",
    "  \n",
    "## above we have a generally difined function, where you can input any range that is our lim o check for, and our multiples that as well won't be bounded by only imputs\n"
   ]
  },
  {
   "cell_type": "markdown",
   "metadata": {},
   "source": [
    "And now after we defined our function above we can call it any time and pass the multiples to check"
   ]
  },
  {
   "cell_type": "code",
   "execution_count": 61,
   "metadata": {},
   "outputs": [
    {
     "name": "stdout",
     "output_type": "stream",
     "text": [
      "233168\n"
     ]
    }
   ],
   "source": [
    "print(sum(div_by_sum(1000, (3,5))))"
   ]
  },
  {
   "cell_type": "markdown",
   "metadata": {},
   "source": [
    "We can pass more multiples to check for"
   ]
  },
  {
   "cell_type": "code",
   "execution_count": 62,
   "metadata": {},
   "outputs": [
    {
     "name": "stdout",
     "output_type": "stream",
     "text": [
      "37\n"
     ]
    }
   ],
   "source": [
    "print(sum(div_by_sum(10, (3, 5,2))))"
   ]
  },
  {
   "cell_type": "code",
   "execution_count": null,
   "metadata": {},
   "outputs": [],
   "source": []
  }
 ],
 "metadata": {
  "interpreter": {
   "hash": "e7370f93d1d0cde622a1f8e1c04877d8463912d04d973331ad4851f04de6915a"
  },
  "kernelspec": {
   "display_name": "Python 3.10.4 64-bit",
   "language": "python",
   "name": "python3"
  },
  "language_info": {
   "codemirror_mode": {
    "name": "ipython",
    "version": 3
   },
   "file_extension": ".py",
   "mimetype": "text/x-python",
   "name": "python",
   "nbconvert_exporter": "python",
   "pygments_lexer": "ipython3",
   "version": "3.10.4"
  },
  "orig_nbformat": 4
 },
 "nbformat": 4,
 "nbformat_minor": 2
}
